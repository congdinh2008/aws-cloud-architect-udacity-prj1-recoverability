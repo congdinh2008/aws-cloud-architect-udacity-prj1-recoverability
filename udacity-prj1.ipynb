{
 "cells": [
  {
   "cell_type": "markdown",
   "metadata": {},
   "source": [
    "# Udacity Cloud Architect using AWS - Project 01 - Recoverability"
   ]
  },
  {
   "cell_type": "markdown",
   "metadata": {},
   "source": [
    "## Create Resource using Terraform"
   ]
  },
  {
   "cell_type": "markdown",
   "metadata": {},
   "source": [
    "1. Terraform initialization"
   ]
  },
  {
   "cell_type": "code",
   "execution_count": null,
   "metadata": {},
   "outputs": [],
   "source": [
    "! terraform init"
   ]
  },
  {
   "cell_type": "markdown",
   "metadata": {},
   "source": [
    "2. Terraform validation"
   ]
  },
  {
   "cell_type": "code",
   "execution_count": null,
   "metadata": {},
   "outputs": [],
   "source": [
    "! terraform validate"
   ]
  },
  {
   "cell_type": "markdown",
   "metadata": {},
   "source": [
    "3. Terraform Plan"
   ]
  },
  {
   "cell_type": "code",
   "execution_count": null,
   "metadata": {},
   "outputs": [],
   "source": [
    "! terrafrom plan -o solution.plan"
   ]
  },
  {
   "cell_type": "markdown",
   "metadata": {},
   "source": [
    "4. Terraform Apply"
   ]
  },
  {
   "cell_type": "code",
   "execution_count": null,
   "metadata": {},
   "outputs": [],
   "source": [
    "! terraform apply"
   ]
  },
  {
   "cell_type": "markdown",
   "metadata": {},
   "source": [
    "## Deploy static website to AWS"
   ]
  },
  {
   "cell_type": "markdown",
   "metadata": {},
   "source": [
    "1. Upload files to AWS s3 bucket"
   ]
  },
  {
   "cell_type": "code",
   "execution_count": 1,
   "metadata": {},
   "outputs": [
    {
     "name": "stdout",
     "output_type": "stream",
     "text": [
      "{\n",
      "    \"Buckets\": [\n",
      "        {\n",
      "            \"Name\": \"udacityprj1-s3\",\n",
      "            \"CreationDate\": \"2023-08-21T02:42:40+00:00\"\n",
      "        }\n",
      "    ],\n",
      "    \"Owner\": {\n",
      "        \"DisplayName\": \"awslabsc0w1831543t1613586769\",\n",
      "        \"ID\": \"2b0bec1a5c30da6f7519482190d58e2c90678c8efa3607f6e27e0c6aa81522d7\"\n",
      "    }\n",
      "}\n"
     ]
    }
   ],
   "source": [
    "! aws s3api list-buckets"
   ]
  },
  {
   "cell_type": "code",
   "execution_count": 2,
   "metadata": {},
   "outputs": [
    {
     "name": "stdout",
     "output_type": "stream",
     "text": [
      "{\n",
      "    \"ETag\": \"\\\"8d54fe877bef037b697d06be28a93bd1\\\"\",\n",
      "    \"ServerSideEncryption\": \"AES256\",\n",
      "    \"VersionId\": \"IwABbABxMXK3A0X.N7BSUIpG_9GyFbOo\"\n",
      "}\n"
     ]
    }
   ],
   "source": [
    "! aws s3api put-object --bucket udacityprj1-s3 --key index.html --body ./s3/index.html"
   ]
  },
  {
   "cell_type": "code",
   "execution_count": 5,
   "metadata": {},
   "outputs": [
    {
     "name": "stdout",
     "output_type": "stream",
     "text": [
      "upload: s3/index.html to s3://udacityprj1-s3/index.html             \n",
      "upload: s3/summer.jpg to s3://udacityprj1-s3/summer.jpg             \n",
      "upload: s3/spring.jpg to s3://udacityprj1-s3/spring.jpg           \n",
      "upload: s3/fall.jpg to s3://udacityprj1-s3/fall.jpg                \n",
      "upload: s3/winter.jpg to s3://udacityprj1-s3/winter.jpg            \n"
     ]
    }
   ],
   "source": [
    "# Copy over folders from local to S3 \n",
    "! aws s3 cp ./s3/ s3://udacityprj1-s3/ --recursive  "
   ]
  },
  {
   "cell_type": "markdown",
   "metadata": {},
   "source": [
    "### You will now “accidentally” change the contents of the website such that it is no longer serving the correct content\n",
    "\n",
    "1. Change index.html to refer to a different “season”\n",
    "2. Re-upload index.html\n",
    "3. Refresh web page"
   ]
  },
  {
   "cell_type": "code",
   "execution_count": 10,
   "metadata": {},
   "outputs": [
    {
     "name": "stdout",
     "output_type": "stream",
     "text": [
      "upload: s3/index.html to s3://udacityprj1-s3/index.html             \n"
     ]
    }
   ],
   "source": [
    "! aws s3 cp ./s3/index.html s3://udacityprj1-s3/  "
   ]
  },
  {
   "cell_type": "markdown",
   "metadata": {},
   "source": [
    "## Destroy the resource"
   ]
  },
  {
   "cell_type": "code",
   "execution_count": null,
   "metadata": {},
   "outputs": [],
   "source": [
    "! terraform destroy"
   ]
  }
 ],
 "metadata": {
  "kernelspec": {
   "display_name": "Python 3",
   "language": "python",
   "name": "python3"
  },
  "language_info": {
   "codemirror_mode": {
    "name": "ipython",
    "version": 3
   },
   "file_extension": ".py",
   "mimetype": "text/x-python",
   "name": "python",
   "nbconvert_exporter": "python",
   "pygments_lexer": "ipython3",
   "version": "3.9.6"
  },
  "orig_nbformat": 4
 },
 "nbformat": 4,
 "nbformat_minor": 2
}
